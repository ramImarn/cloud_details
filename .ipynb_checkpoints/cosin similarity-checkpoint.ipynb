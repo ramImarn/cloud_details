{
 "cells": [
  {
   "cell_type": "code",
   "execution_count": 8,
   "id": "2727a19d-2644-4b03-9904-ce9ecd772bbe",
   "metadata": {},
   "outputs": [
    {
     "name": "stderr",
     "output_type": "stream",
     "text": [
      "[nltk_data] Downloading package stopwords to\n",
      "[nltk_data]     /home/spraksam/nltk_data...\n",
      "[nltk_data]   Package stopwords is already up-to-date!\n"
     ]
    }
   ],
   "source": [
    "import pandas as pd\n",
    "import numpy as np\n",
    "from nltk.corpus import stopwords\n",
    "import nltk\n",
    "nltk.download('stopwords')\n",
    "import re\n",
    "from sklearn.feature_extraction.text import TfidfVectorizer \n",
    "from sklearn.metrics.pairwise import cosine_similarity\n",
    "from sklearn.metrics.pairwise import euclidean_distances\n",
    "from sentence_transformers import SentenceTransformer"
   ]
  },
  {
   "cell_type": "code",
   "execution_count": 7,
   "id": "8ca88ea8-473d-4fda-b653-697771acc762",
   "metadata": {
    "scrolled": true
   },
   "outputs": [
    {
     "name": "stdout",
     "output_type": "stream",
     "text": [
      "Collecting sentence-transformers\n",
      "  Downloading sentence_transformers-2.6.1-py3-none-any.whl (163 kB)\n",
      "\u001b[2K     \u001b[38;2;114;156;31m━━━━━━━━━━━━━━━━━━━━━━━━━━━━━━━━━━━━━━━\u001b[0m \u001b[32m163.3/163.3 KB\u001b[0m \u001b[31m4.3 MB/s\u001b[0m eta \u001b[36m0:00:00\u001b[0m[31m5.0 MB/s\u001b[0m eta \u001b[36m0:00:01\u001b[0m\n",
      "\u001b[?25hRequirement already satisfied: huggingface-hub>=0.15.1 in /media/spraksam/9E16B18716B160C7/py_pro/RAM/pro/audio_process/audio_pro/lib/python3.10/site-packages (from sentence-transformers) (0.22.1)\n",
      "Requirement already satisfied: tqdm in /media/spraksam/9E16B18716B160C7/py_pro/RAM/pro/audio_process/audio_pro/lib/python3.10/site-packages (from sentence-transformers) (4.66.2)\n",
      "Requirement already satisfied: scikit-learn in /media/spraksam/9E16B18716B160C7/py_pro/RAM/pro/audio_process/audio_pro/lib/python3.10/site-packages (from sentence-transformers) (1.4.1.post1)\n",
      "Requirement already satisfied: transformers<5.0.0,>=4.32.0 in /media/spraksam/9E16B18716B160C7/py_pro/RAM/pro/audio_process/audio_pro/lib/python3.10/site-packages (from sentence-transformers) (4.39.1)\n",
      "Requirement already satisfied: scipy in /media/spraksam/9E16B18716B160C7/py_pro/RAM/pro/audio_process/audio_pro/lib/python3.10/site-packages (from sentence-transformers) (1.12.0)\n",
      "Requirement already satisfied: Pillow in /media/spraksam/9E16B18716B160C7/py_pro/RAM/pro/audio_process/audio_pro/lib/python3.10/site-packages (from sentence-transformers) (10.2.0)\n",
      "Requirement already satisfied: numpy in /media/spraksam/9E16B18716B160C7/py_pro/RAM/pro/audio_process/audio_pro/lib/python3.10/site-packages (from sentence-transformers) (1.26.4)\n",
      "Requirement already satisfied: torch>=1.11.0 in /media/spraksam/9E16B18716B160C7/py_pro/RAM/pro/audio_process/audio_pro/lib/python3.10/site-packages (from sentence-transformers) (2.2.1)\n",
      "Requirement already satisfied: filelock in /media/spraksam/9E16B18716B160C7/py_pro/RAM/pro/audio_process/audio_pro/lib/python3.10/site-packages (from huggingface-hub>=0.15.1->sentence-transformers) (3.13.1)\n",
      "Requirement already satisfied: typing-extensions>=3.7.4.3 in /media/spraksam/9E16B18716B160C7/py_pro/RAM/pro/audio_process/audio_pro/lib/python3.10/site-packages (from huggingface-hub>=0.15.1->sentence-transformers) (4.10.0)\n",
      "Requirement already satisfied: pyyaml>=5.1 in /media/spraksam/9E16B18716B160C7/py_pro/RAM/pro/audio_process/audio_pro/lib/python3.10/site-packages (from huggingface-hub>=0.15.1->sentence-transformers) (6.0.1)\n",
      "Requirement already satisfied: packaging>=20.9 in /media/spraksam/9E16B18716B160C7/py_pro/RAM/pro/audio_process/audio_pro/lib/python3.10/site-packages (from huggingface-hub>=0.15.1->sentence-transformers) (23.2)\n",
      "Requirement already satisfied: requests in /media/spraksam/9E16B18716B160C7/py_pro/RAM/pro/audio_process/audio_pro/lib/python3.10/site-packages (from huggingface-hub>=0.15.1->sentence-transformers) (2.31.0)\n",
      "Requirement already satisfied: fsspec>=2023.5.0 in /media/spraksam/9E16B18716B160C7/py_pro/RAM/pro/audio_process/audio_pro/lib/python3.10/site-packages (from huggingface-hub>=0.15.1->sentence-transformers) (2024.2.0)\n",
      "Requirement already satisfied: networkx in /media/spraksam/9E16B18716B160C7/py_pro/RAM/pro/audio_process/audio_pro/lib/python3.10/site-packages (from torch>=1.11.0->sentence-transformers) (3.2.1)\n",
      "Requirement already satisfied: nvidia-nvtx-cu12==12.1.105 in /media/spraksam/9E16B18716B160C7/py_pro/RAM/pro/audio_process/audio_pro/lib/python3.10/site-packages (from torch>=1.11.0->sentence-transformers) (12.1.105)\n",
      "Requirement already satisfied: triton==2.2.0 in /media/spraksam/9E16B18716B160C7/py_pro/RAM/pro/audio_process/audio_pro/lib/python3.10/site-packages (from torch>=1.11.0->sentence-transformers) (2.2.0)\n",
      "Requirement already satisfied: jinja2 in /media/spraksam/9E16B18716B160C7/py_pro/RAM/pro/audio_process/audio_pro/lib/python3.10/site-packages (from torch>=1.11.0->sentence-transformers) (3.1.3)\n",
      "Requirement already satisfied: nvidia-nccl-cu12==2.19.3 in /media/spraksam/9E16B18716B160C7/py_pro/RAM/pro/audio_process/audio_pro/lib/python3.10/site-packages (from torch>=1.11.0->sentence-transformers) (2.19.3)\n",
      "Requirement already satisfied: sympy in /media/spraksam/9E16B18716B160C7/py_pro/RAM/pro/audio_process/audio_pro/lib/python3.10/site-packages (from torch>=1.11.0->sentence-transformers) (1.12)\n",
      "Requirement already satisfied: nvidia-cudnn-cu12==8.9.2.26 in /media/spraksam/9E16B18716B160C7/py_pro/RAM/pro/audio_process/audio_pro/lib/python3.10/site-packages (from torch>=1.11.0->sentence-transformers) (8.9.2.26)\n",
      "Requirement already satisfied: nvidia-cuda-runtime-cu12==12.1.105 in /media/spraksam/9E16B18716B160C7/py_pro/RAM/pro/audio_process/audio_pro/lib/python3.10/site-packages (from torch>=1.11.0->sentence-transformers) (12.1.105)\n",
      "Requirement already satisfied: nvidia-cublas-cu12==12.1.3.1 in /media/spraksam/9E16B18716B160C7/py_pro/RAM/pro/audio_process/audio_pro/lib/python3.10/site-packages (from torch>=1.11.0->sentence-transformers) (12.1.3.1)\n",
      "Requirement already satisfied: nvidia-cufft-cu12==11.0.2.54 in /media/spraksam/9E16B18716B160C7/py_pro/RAM/pro/audio_process/audio_pro/lib/python3.10/site-packages (from torch>=1.11.0->sentence-transformers) (11.0.2.54)\n",
      "Requirement already satisfied: nvidia-curand-cu12==10.3.2.106 in /media/spraksam/9E16B18716B160C7/py_pro/RAM/pro/audio_process/audio_pro/lib/python3.10/site-packages (from torch>=1.11.0->sentence-transformers) (10.3.2.106)\n",
      "Requirement already satisfied: nvidia-cusolver-cu12==11.4.5.107 in /media/spraksam/9E16B18716B160C7/py_pro/RAM/pro/audio_process/audio_pro/lib/python3.10/site-packages (from torch>=1.11.0->sentence-transformers) (11.4.5.107)\n",
      "Requirement already satisfied: nvidia-cusparse-cu12==12.1.0.106 in /media/spraksam/9E16B18716B160C7/py_pro/RAM/pro/audio_process/audio_pro/lib/python3.10/site-packages (from torch>=1.11.0->sentence-transformers) (12.1.0.106)\n",
      "Requirement already satisfied: nvidia-cuda-nvrtc-cu12==12.1.105 in /media/spraksam/9E16B18716B160C7/py_pro/RAM/pro/audio_process/audio_pro/lib/python3.10/site-packages (from torch>=1.11.0->sentence-transformers) (12.1.105)\n",
      "Requirement already satisfied: nvidia-cuda-cupti-cu12==12.1.105 in /media/spraksam/9E16B18716B160C7/py_pro/RAM/pro/audio_process/audio_pro/lib/python3.10/site-packages (from torch>=1.11.0->sentence-transformers) (12.1.105)\n",
      "Requirement already satisfied: nvidia-nvjitlink-cu12 in /media/spraksam/9E16B18716B160C7/py_pro/RAM/pro/audio_process/audio_pro/lib/python3.10/site-packages (from nvidia-cusolver-cu12==11.4.5.107->torch>=1.11.0->sentence-transformers) (12.4.99)\n",
      "Requirement already satisfied: safetensors>=0.4.1 in /media/spraksam/9E16B18716B160C7/py_pro/RAM/pro/audio_process/audio_pro/lib/python3.10/site-packages (from transformers<5.0.0,>=4.32.0->sentence-transformers) (0.4.2)\n",
      "Requirement already satisfied: tokenizers<0.19,>=0.14 in /media/spraksam/9E16B18716B160C7/py_pro/RAM/pro/audio_process/audio_pro/lib/python3.10/site-packages (from transformers<5.0.0,>=4.32.0->sentence-transformers) (0.15.2)\n",
      "Requirement already satisfied: regex!=2019.12.17 in /media/spraksam/9E16B18716B160C7/py_pro/RAM/pro/audio_process/audio_pro/lib/python3.10/site-packages (from transformers<5.0.0,>=4.32.0->sentence-transformers) (2023.12.25)\n",
      "Requirement already satisfied: threadpoolctl>=2.0.0 in /media/spraksam/9E16B18716B160C7/py_pro/RAM/pro/audio_process/audio_pro/lib/python3.10/site-packages (from scikit-learn->sentence-transformers) (3.4.0)\n",
      "Requirement already satisfied: joblib>=1.2.0 in /media/spraksam/9E16B18716B160C7/py_pro/RAM/pro/audio_process/audio_pro/lib/python3.10/site-packages (from scikit-learn->sentence-transformers) (1.3.2)\n",
      "Requirement already satisfied: MarkupSafe>=2.0 in /media/spraksam/9E16B18716B160C7/py_pro/RAM/pro/audio_process/audio_pro/lib/python3.10/site-packages (from jinja2->torch>=1.11.0->sentence-transformers) (2.1.5)\n",
      "Requirement already satisfied: certifi>=2017.4.17 in /media/spraksam/9E16B18716B160C7/py_pro/RAM/pro/audio_process/audio_pro/lib/python3.10/site-packages (from requests->huggingface-hub>=0.15.1->sentence-transformers) (2024.2.2)\n",
      "Requirement already satisfied: charset-normalizer<4,>=2 in /media/spraksam/9E16B18716B160C7/py_pro/RAM/pro/audio_process/audio_pro/lib/python3.10/site-packages (from requests->huggingface-hub>=0.15.1->sentence-transformers) (3.3.2)\n",
      "Requirement already satisfied: idna<4,>=2.5 in /media/spraksam/9E16B18716B160C7/py_pro/RAM/pro/audio_process/audio_pro/lib/python3.10/site-packages (from requests->huggingface-hub>=0.15.1->sentence-transformers) (3.6)\n",
      "Requirement already satisfied: urllib3<3,>=1.21.1 in /media/spraksam/9E16B18716B160C7/py_pro/RAM/pro/audio_process/audio_pro/lib/python3.10/site-packages (from requests->huggingface-hub>=0.15.1->sentence-transformers) (2.2.1)\n",
      "Requirement already satisfied: mpmath>=0.19 in /media/spraksam/9E16B18716B160C7/py_pro/RAM/pro/audio_process/audio_pro/lib/python3.10/site-packages (from sympy->torch>=1.11.0->sentence-transformers) (1.3.0)\n",
      "Installing collected packages: sentence-transformers\n",
      "Successfully installed sentence-transformers-2.6.1\n"
     ]
    }
   ],
   "source": [
    "! pip3 install sentence-transformers"
   ]
  },
  {
   "cell_type": "code",
   "execution_count": 10,
   "id": "65815483-303d-4784-8f52-72f82a4df85b",
   "metadata": {},
   "outputs": [],
   "source": [
    "documents = ['Machine learning is the study of computer algorithms that improve automatically through experience.\\\n",
    "Machine learning algorithms build a mathematical model based on sample data, known as training data.\\\n",
    "The discipline of machine learning employs various approaches to teach computers to accomplish tasks \\\n",
    "where no fully satisfactory algorithm is available.',\n",
    "'Machine learning is closely related to computational statistics, which focuses on making predictions using computers.\\\n",
    "The study of mathematical optimization delivers methods, theory and application domains to the field of machine learning.',\n",
    "'Machine learning involves computers discovering how they can perform tasks without being explicitly programmed to do so. \\\n",
    "It involves computers learning from data provided so that they carry out certain tasks.',\n",
    "'Machine learning approaches are traditionally divided into three broad categories, depending on the nature of the \"signal\"\\\n",
    "or \"feedback\" available to the learning system: Supervised, Unsupervised and Reinforcement',\n",
    "'Software engineering is the systematic application of engineering approaches to the development of software.\\\n",
    "Software engineering is a computing discipline.',\n",
    "'A software engineer creates programs based on logic for the computer to execute. A software engineer has to be more concerned\\\n",
    "about the correctness of the program in all the cases. Meanwhile, a data scientist is comfortable with uncertainty and variability.\\\n",
    "Developing a machine learning application is more iterative and explorative process than software engineering.'\n",
    "]"
   ]
  },
  {
   "cell_type": "code",
   "execution_count": null,
   "id": "f43ea69f-3b37-4603-a1cb-578f6c05e276",
   "metadata": {},
   "outputs": [],
   "source": [
    "import eng_to_ipa as p \n",
    "\n",
    "sam=p.convert(\"book\")\n",
    "sam"
   ]
  },
  {
   "cell_type": "code",
   "execution_count": 13,
   "id": "a1722936-38ba-48e9-a185-a662703367af",
   "metadata": {},
   "outputs": [],
   "source": [
    "# List of sentences to be processed\n",
    "sentences = [\n",
    "    \"Three years later, the coffin was still full of Jello.\",\n",
    "    \"The fish dreamed of escaping the fishbowl and into the toilet where he saw his friend go.\",\n",
    "    \"The person box was packed with jelly many dozens of months later.\",\n",
    "    \"He found a leprechaun in his walnut shell.\"\n",
    "]\n",
    "\n",
    "# Initializing the Sentence Transformer model using BERT with mean-tokens pooling\n",
    "model = SentenceTransformer('bert-base-nli-mean-tokens')\n",
    "\n",
    "# Encoding the sentences to obtain their embeddings\n",
    "sentence_embeddings = model.encode(sentences)\n",
    "\n",
    "# Calculating the cosine similarity between the first sentence embedding and the rest of the embeddings\n",
    "# The result will be a list of similarity scores between the first sentence and each of the other sentences\n",
    "cosine_score = cosine_similarity([sentence_embeddings[0]], sentence_embeddings[1:])\n",
    "euclidean_score = euclidean_distances([sentence_embeddings[0]], sentence_embeddings[1:])"
   ]
  },
  {
   "cell_type": "code",
   "execution_count": 14,
   "id": "93d38573-db78-4ca6-b2f2-e764eecc02d4",
   "metadata": {},
   "outputs": [
    {
     "data": {
      "text/plain": [
       "(array([[0.33088914, 0.72192585, 0.55483633]], dtype=float32),\n",
       " array([[18.574282, 12.012485, 14.910336]], dtype=float32))"
      ]
     },
     "execution_count": 14,
     "metadata": {},
     "output_type": "execute_result"
    }
   ],
   "source": [
    "cosine_score,euclidean_score"
   ]
  },
  {
   "cell_type": "code",
   "execution_count": null,
   "id": "fbe9715f-2847-4267-89f9-e6f79d37f4d6",
   "metadata": {},
   "outputs": [],
   "source": [
    "documents_df=pd.DataFrame(documents,columns=['documents'])\n",
    "\n",
    "# removing special characters and stop words from the text\n",
    "stop_words_l=stopwords.words('english')\n",
    "documents_df['documents_cleaned']=documents_df.documents.apply(lambda x: \" \".join(re.sub(r'[^a-zA-Z]',' ',w).lower() for w in x.split() if re.sub(r'[^a-zA-Z]',' ',w).lower() not in stop_words_l) )\n",
    "\n",
    "tfidfvectoriser=TfidfVectorizer()\n",
    "tfidfvectoriser.fit(documents_df.documents_cleaned)\n",
    "tfidf_vectors=tfidfvectoriser.transform(documents_df.documents_cleaned)\n",
    "\n",
    "pairwise_similarities=np.dot(tfidf_vectors,tfidf_vectors.T).toarray()\n",
    "pairwise_differences=euclidean_distances(tfidf_vectors)\n",
    "\n",
    "def most_similar(doc_id,similarity_matrix,matrix):\n",
    "    print (f'Document: {documents_df.iloc[doc_id][\"documents\"]}')\n",
    "    print ('\\n')\n",
    "    print ('Similar Documents:')\n",
    "    if matrix=='Cosine Similarity':\n",
    "        similar_ix=np.argsort(similarity_matrix[doc_id])[::-1]\n",
    "    elif matrix=='Euclidean Distance':\n",
    "        similar_ix=np.argsort(similarity_matrix[doc_id])\n",
    "    for ix in similar_ix:\n",
    "        if ix==doc_id:\n",
    "            continue\n",
    "        print('\\n')\n",
    "        print (f'Document: {documents_df.iloc[ix][\"documents\"]}')\n",
    "        print (f'{matrix} : {similarity_matrix[doc_id][ix]}')\n",
    "\n",
    "most_similar(0,pairwise_similarities,'Cosine Similarity')\n",
    "most_similar(0,pairwise_differences,'Euclidean Distance')"
   ]
  },
  {
   "cell_type": "code",
   "execution_count": 23,
   "id": "985ad262-0507-4dd5-8c7b-db7297d256f8",
   "metadata": {
    "scrolled": true
   },
   "outputs": [
    {
     "name": "stderr",
     "output_type": "stream",
     "text": [
      "huggingface/tokenizers: The current process just got forked, after parallelism has already been used. Disabling parallelism to avoid deadlocks...\n",
      "To disable this warning, you can either:\n",
      "\t- Avoid using `tokenizers` before the fork if possible\n",
      "\t- Explicitly set the environment variable TOKENIZERS_PARALLELISM=(true | false)\n"
     ]
    },
    {
     "name": "stdout",
     "output_type": "stream",
     "text": [
      "Collecting en-core-web-lg==3.7.1\n",
      "  Downloading https://github.com/explosion/spacy-models/releases/download/en_core_web_lg-3.7.1/en_core_web_lg-3.7.1-py3-none-any.whl (587.7 MB)\n",
      "\u001b[2K     \u001b[38;2;114;156;31m━━━━━━━━━━━━━━━━━━━━━━━━━━━━━━━━━━━━━━━\u001b[0m \u001b[32m587.7/587.7 MB\u001b[0m \u001b[31m2.7 MB/s\u001b[0m eta \u001b[36m0:00:00\u001b[0mm eta \u001b[36m0:00:01\u001b[0m[36m0:00:02\u001b[0m\n",
      "\u001b[?25hRequirement already satisfied: spacy<3.8.0,>=3.7.2 in /media/spraksam/9E16B18716B160C7/py_pro/RAM/pro/audio_process/audio_pro/lib/python3.10/site-packages (from en-core-web-lg==3.7.1) (3.7.4)\n",
      "Requirement already satisfied: pydantic!=1.8,!=1.8.1,<3.0.0,>=1.7.4 in /media/spraksam/9E16B18716B160C7/py_pro/RAM/pro/audio_process/audio_pro/lib/python3.10/site-packages (from spacy<3.8.0,>=3.7.2->en-core-web-lg==3.7.1) (2.6.4)\n",
      "Requirement already satisfied: spacy-loggers<2.0.0,>=1.0.0 in /media/spraksam/9E16B18716B160C7/py_pro/RAM/pro/audio_process/audio_pro/lib/python3.10/site-packages (from spacy<3.8.0,>=3.7.2->en-core-web-lg==3.7.1) (1.0.5)\n",
      "Requirement already satisfied: spacy-legacy<3.1.0,>=3.0.11 in /media/spraksam/9E16B18716B160C7/py_pro/RAM/pro/audio_process/audio_pro/lib/python3.10/site-packages (from spacy<3.8.0,>=3.7.2->en-core-web-lg==3.7.1) (3.0.12)\n",
      "Requirement already satisfied: jinja2 in /media/spraksam/9E16B18716B160C7/py_pro/RAM/pro/audio_process/audio_pro/lib/python3.10/site-packages (from spacy<3.8.0,>=3.7.2->en-core-web-lg==3.7.1) (3.1.3)\n",
      "Requirement already satisfied: numpy>=1.19.0 in /media/spraksam/9E16B18716B160C7/py_pro/RAM/pro/audio_process/audio_pro/lib/python3.10/site-packages (from spacy<3.8.0,>=3.7.2->en-core-web-lg==3.7.1) (1.26.4)\n",
      "Requirement already satisfied: setuptools in /media/spraksam/9E16B18716B160C7/py_pro/RAM/pro/audio_process/audio_pro/lib/python3.10/site-packages (from spacy<3.8.0,>=3.7.2->en-core-web-lg==3.7.1) (59.6.0)\n",
      "Requirement already satisfied: preshed<3.1.0,>=3.0.2 in /media/spraksam/9E16B18716B160C7/py_pro/RAM/pro/audio_process/audio_pro/lib/python3.10/site-packages (from spacy<3.8.0,>=3.7.2->en-core-web-lg==3.7.1) (3.0.9)\n",
      "Requirement already satisfied: smart-open<7.0.0,>=5.2.1 in /media/spraksam/9E16B18716B160C7/py_pro/RAM/pro/audio_process/audio_pro/lib/python3.10/site-packages (from spacy<3.8.0,>=3.7.2->en-core-web-lg==3.7.1) (6.4.0)\n",
      "Requirement already satisfied: packaging>=20.0 in /media/spraksam/9E16B18716B160C7/py_pro/RAM/pro/audio_process/audio_pro/lib/python3.10/site-packages (from spacy<3.8.0,>=3.7.2->en-core-web-lg==3.7.1) (23.2)\n",
      "Requirement already satisfied: catalogue<2.1.0,>=2.0.6 in /media/spraksam/9E16B18716B160C7/py_pro/RAM/pro/audio_process/audio_pro/lib/python3.10/site-packages (from spacy<3.8.0,>=3.7.2->en-core-web-lg==3.7.1) (2.0.10)\n",
      "Requirement already satisfied: wasabi<1.2.0,>=0.9.1 in /media/spraksam/9E16B18716B160C7/py_pro/RAM/pro/audio_process/audio_pro/lib/python3.10/site-packages (from spacy<3.8.0,>=3.7.2->en-core-web-lg==3.7.1) (1.1.2)\n",
      "Requirement already satisfied: srsly<3.0.0,>=2.4.3 in /media/spraksam/9E16B18716B160C7/py_pro/RAM/pro/audio_process/audio_pro/lib/python3.10/site-packages (from spacy<3.8.0,>=3.7.2->en-core-web-lg==3.7.1) (2.4.8)\n",
      "Requirement already satisfied: tqdm<5.0.0,>=4.38.0 in /media/spraksam/9E16B18716B160C7/py_pro/RAM/pro/audio_process/audio_pro/lib/python3.10/site-packages (from spacy<3.8.0,>=3.7.2->en-core-web-lg==3.7.1) (4.66.2)\n",
      "Requirement already satisfied: typer<0.10.0,>=0.3.0 in /media/spraksam/9E16B18716B160C7/py_pro/RAM/pro/audio_process/audio_pro/lib/python3.10/site-packages (from spacy<3.8.0,>=3.7.2->en-core-web-lg==3.7.1) (0.9.4)\n",
      "Requirement already satisfied: requests<3.0.0,>=2.13.0 in /media/spraksam/9E16B18716B160C7/py_pro/RAM/pro/audio_process/audio_pro/lib/python3.10/site-packages (from spacy<3.8.0,>=3.7.2->en-core-web-lg==3.7.1) (2.31.0)\n",
      "Requirement already satisfied: murmurhash<1.1.0,>=0.28.0 in /media/spraksam/9E16B18716B160C7/py_pro/RAM/pro/audio_process/audio_pro/lib/python3.10/site-packages (from spacy<3.8.0,>=3.7.2->en-core-web-lg==3.7.1) (1.0.10)\n",
      "Requirement already satisfied: langcodes<4.0.0,>=3.2.0 in /media/spraksam/9E16B18716B160C7/py_pro/RAM/pro/audio_process/audio_pro/lib/python3.10/site-packages (from spacy<3.8.0,>=3.7.2->en-core-web-lg==3.7.1) (3.3.0)\n",
      "Requirement already satisfied: weasel<0.4.0,>=0.1.0 in /media/spraksam/9E16B18716B160C7/py_pro/RAM/pro/audio_process/audio_pro/lib/python3.10/site-packages (from spacy<3.8.0,>=3.7.2->en-core-web-lg==3.7.1) (0.3.4)\n",
      "Requirement already satisfied: thinc<8.3.0,>=8.2.2 in /media/spraksam/9E16B18716B160C7/py_pro/RAM/pro/audio_process/audio_pro/lib/python3.10/site-packages (from spacy<3.8.0,>=3.7.2->en-core-web-lg==3.7.1) (8.2.3)\n",
      "Requirement already satisfied: cymem<2.1.0,>=2.0.2 in /media/spraksam/9E16B18716B160C7/py_pro/RAM/pro/audio_process/audio_pro/lib/python3.10/site-packages (from spacy<3.8.0,>=3.7.2->en-core-web-lg==3.7.1) (2.0.8)\n",
      "Requirement already satisfied: typing-extensions>=4.6.1 in /media/spraksam/9E16B18716B160C7/py_pro/RAM/pro/audio_process/audio_pro/lib/python3.10/site-packages (from pydantic!=1.8,!=1.8.1,<3.0.0,>=1.7.4->spacy<3.8.0,>=3.7.2->en-core-web-lg==3.7.1) (4.10.0)\n",
      "Requirement already satisfied: pydantic-core==2.16.3 in /media/spraksam/9E16B18716B160C7/py_pro/RAM/pro/audio_process/audio_pro/lib/python3.10/site-packages (from pydantic!=1.8,!=1.8.1,<3.0.0,>=1.7.4->spacy<3.8.0,>=3.7.2->en-core-web-lg==3.7.1) (2.16.3)\n",
      "Requirement already satisfied: annotated-types>=0.4.0 in /media/spraksam/9E16B18716B160C7/py_pro/RAM/pro/audio_process/audio_pro/lib/python3.10/site-packages (from pydantic!=1.8,!=1.8.1,<3.0.0,>=1.7.4->spacy<3.8.0,>=3.7.2->en-core-web-lg==3.7.1) (0.6.0)\n",
      "Requirement already satisfied: charset-normalizer<4,>=2 in /media/spraksam/9E16B18716B160C7/py_pro/RAM/pro/audio_process/audio_pro/lib/python3.10/site-packages (from requests<3.0.0,>=2.13.0->spacy<3.8.0,>=3.7.2->en-core-web-lg==3.7.1) (3.3.2)\n",
      "Requirement already satisfied: certifi>=2017.4.17 in /media/spraksam/9E16B18716B160C7/py_pro/RAM/pro/audio_process/audio_pro/lib/python3.10/site-packages (from requests<3.0.0,>=2.13.0->spacy<3.8.0,>=3.7.2->en-core-web-lg==3.7.1) (2024.2.2)\n",
      "Requirement already satisfied: idna<4,>=2.5 in /media/spraksam/9E16B18716B160C7/py_pro/RAM/pro/audio_process/audio_pro/lib/python3.10/site-packages (from requests<3.0.0,>=2.13.0->spacy<3.8.0,>=3.7.2->en-core-web-lg==3.7.1) (3.6)\n",
      "Requirement already satisfied: urllib3<3,>=1.21.1 in /media/spraksam/9E16B18716B160C7/py_pro/RAM/pro/audio_process/audio_pro/lib/python3.10/site-packages (from requests<3.0.0,>=2.13.0->spacy<3.8.0,>=3.7.2->en-core-web-lg==3.7.1) (2.2.1)\n",
      "Requirement already satisfied: blis<0.8.0,>=0.7.8 in /media/spraksam/9E16B18716B160C7/py_pro/RAM/pro/audio_process/audio_pro/lib/python3.10/site-packages (from thinc<8.3.0,>=8.2.2->spacy<3.8.0,>=3.7.2->en-core-web-lg==3.7.1) (0.7.11)\n",
      "Requirement already satisfied: confection<1.0.0,>=0.0.1 in /media/spraksam/9E16B18716B160C7/py_pro/RAM/pro/audio_process/audio_pro/lib/python3.10/site-packages (from thinc<8.3.0,>=8.2.2->spacy<3.8.0,>=3.7.2->en-core-web-lg==3.7.1) (0.1.4)\n",
      "Requirement already satisfied: click<9.0.0,>=7.1.1 in /media/spraksam/9E16B18716B160C7/py_pro/RAM/pro/audio_process/audio_pro/lib/python3.10/site-packages (from typer<0.10.0,>=0.3.0->spacy<3.8.0,>=3.7.2->en-core-web-lg==3.7.1) (8.1.7)\n",
      "Requirement already satisfied: cloudpathlib<0.17.0,>=0.7.0 in /media/spraksam/9E16B18716B160C7/py_pro/RAM/pro/audio_process/audio_pro/lib/python3.10/site-packages (from weasel<0.4.0,>=0.1.0->spacy<3.8.0,>=3.7.2->en-core-web-lg==3.7.1) (0.16.0)\n",
      "Requirement already satisfied: MarkupSafe>=2.0 in /media/spraksam/9E16B18716B160C7/py_pro/RAM/pro/audio_process/audio_pro/lib/python3.10/site-packages (from jinja2->spacy<3.8.0,>=3.7.2->en-core-web-lg==3.7.1) (2.1.5)\n",
      "Installing collected packages: en-core-web-lg\n",
      "Successfully installed en-core-web-lg-3.7.1\n",
      "\u001b[38;5;2m✔ Download and installation successful\u001b[0m\n",
      "You can now load the package via spacy.load('en_core_web_lg')\n"
     ]
    }
   ],
   "source": [
    "! python -m spacy download en_core_web_lg"
   ]
  },
  {
   "cell_type": "code",
   "execution_count": 42,
   "id": "cffd1315-9ee4-4d3d-a47e-e0f0fb062522",
   "metadata": {},
   "outputs": [
    {
     "name": "stdout",
     "output_type": "stream",
     "text": [
      "Enter two space-separated words\n"
     ]
    },
    {
     "name": "stdin",
     "output_type": "stream",
     "text": [
      " eaaars ear\n"
     ]
    }
   ],
   "source": [
    "import spacy \n",
    "  \n",
    "nlp = spacy.load('en_core_web_md') \n",
    "  \n",
    "print(\"Enter two space-separated words\") \n",
    "words = input()\n",
    "  \n",
    "tokens = nlp(words) "
   ]
  },
  {
   "cell_type": "code",
   "execution_count": 43,
   "id": "e79d2064-6691-459a-bb7a-86f274b5d7fd",
   "metadata": {},
   "outputs": [
    {
     "name": "stdout",
     "output_type": "stream",
     "text": [
      "eaaars False 0.0 True\n",
      "ear True 72.649635 False\n",
      "Similarity: 0.0\n"
     ]
    },
    {
     "name": "stderr",
     "output_type": "stream",
     "text": [
      "/tmp/ipykernel_8453/983306046.py:11: UserWarning: [W008] Evaluating Token.similarity based on empty vectors.\n",
      "  print(\"Similarity:\", token1.similarity(token2))\n"
     ]
    }
   ],
   "source": [
    "for token in tokens: \n",
    "    # Printing the following attributes of each token. \n",
    "    # text: the word string, has_vector: if it contains \n",
    "    # a vector representation in the model,  \n",
    "    # vector_norm: the algebraic norm of the vector, \n",
    "    # is_oov: if the word is out of vocabulary. \n",
    "    print(token.text, token.has_vector, token.vector_norm, token.is_oov) \n",
    "  \n",
    "token1, token2 = tokens[0], tokens[1] \n",
    "  \n",
    "print(\"Similarity:\", token1.similarity(token2)) "
   ]
  },
  {
   "cell_type": "code",
   "execution_count": null,
   "id": "b52485ac-1d18-4a0c-a2f1-187ffecd3331",
   "metadata": {},
   "outputs": [],
   "source": []
  },
  {
   "cell_type": "code",
   "execution_count": 41,
   "id": "34f2a9e7-c482-43ea-8858-63c7ac95ceab",
   "metadata": {},
   "outputs": [
    {
     "name": "stdout",
     "output_type": "stream",
     "text": [
      "ear ears Similarity: 0.7483939102124403\n"
     ]
    }
   ],
   "source": [
    "sentence=\"this is ear\"\n",
    "refrence=['ears','eyes','blue']\n",
    "\n",
    "words=nlp(str(sentence))\n",
    "\n",
    "for i in words:\n",
    "    for j in refrence:\n",
    "        j=nlp(j)\n",
    "        if i.similarity(j) > 0.6:\n",
    "            print(i,j,\"Similarity:\", i.similarity(j))"
   ]
  },
  {
   "cell_type": "code",
   "execution_count": null,
   "id": "777a051a-bb31-49b8-aa83-7f7ded833489",
   "metadata": {},
   "outputs": [],
   "source": []
  }
 ],
 "metadata": {
  "kernelspec": {
   "display_name": "Python 3 (ipykernel)",
   "language": "python",
   "name": "python3"
  },
  "language_info": {
   "codemirror_mode": {
    "name": "ipython",
    "version": 3
   },
   "file_extension": ".py",
   "mimetype": "text/x-python",
   "name": "python",
   "nbconvert_exporter": "python",
   "pygments_lexer": "ipython3",
   "version": "3.10.12"
  }
 },
 "nbformat": 4,
 "nbformat_minor": 5
}
