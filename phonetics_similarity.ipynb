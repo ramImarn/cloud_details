{
 "cells": [
  {
   "cell_type": "code",
   "execution_count": 8,
   "id": "ed87f507-1123-471d-a42e-b73c10d2b19b",
   "metadata": {},
   "outputs": [
    {
     "name": "stderr",
     "output_type": "stream",
     "text": [
      "Some weights of the model checkpoint at vitouphy/wav2vec2-xls-r-300m-timit-phoneme were not used when initializing Wav2Vec2ForCTC: ['wav2vec2.encoder.pos_conv_embed.conv.weight_g', 'wav2vec2.encoder.pos_conv_embed.conv.weight_v']\n",
      "- This IS expected if you are initializing Wav2Vec2ForCTC from the checkpoint of a model trained on another task or with another architecture (e.g. initializing a BertForSequenceClassification model from a BertForPreTraining model).\n",
      "- This IS NOT expected if you are initializing Wav2Vec2ForCTC from the checkpoint of a model that you expect to be exactly identical (initializing a BertForSequenceClassification model from a BertForSequenceClassification model).\n",
      "Some weights of Wav2Vec2ForCTC were not initialized from the model checkpoint at vitouphy/wav2vec2-xls-r-300m-timit-phoneme and are newly initialized: ['wav2vec2.encoder.pos_conv_embed.conv.parametrizations.weight.original0', 'wav2vec2.encoder.pos_conv_embed.conv.parametrizations.weight.original1']\n",
      "You should probably TRAIN this model on a down-stream task to be able to use it for predictions and inference.\n",
      "Special tokens have been added in the vocabulary, make sure the associated word embeddings are fine-tuned or trained.\n"
     ]
    }
   ],
   "source": [
    "import spacy \n",
    "nlp = spacy.load('en_core_web_md') \n",
    "from sklearn.feature_extraction.text import TfidfVectorizer \n",
    "from sklearn.metrics.pairwise import cosine_similarity\n",
    "from sklearn.metrics.pairwise import euclidean_distances\n",
    "import eng_to_ipa as p \n",
    "import whisper\n",
    "\n",
    "from transformers import pipeline\n",
    "pipe = pipeline(model=\"vitouphy/wav2vec2-xls-r-300m-timit-phoneme\")\n",
    "\n",
    "import pandas as pd"
   ]
  },
  {
   "cell_type": "code",
   "execution_count": 9,
   "id": "eb55857f-ff1c-48de-ae86-22329448f75b",
   "metadata": {},
   "outputs": [
    {
     "name": "stderr",
     "output_type": "stream",
     "text": [
      "/media/spraksam/9E16B18716B160C7/py_pro/RAM/pro/audio_process/audio_pro/lib/python3.10/site-packages/whisper/transcribe.py:126: UserWarning: FP16 is not supported on CPU; using FP32 instead\n",
      "  warnings.warn(\"FP16 is not supported on CPU; using FP32 instead\")\n"
     ]
    },
    {
     "data": {
      "text/plain": [
       "' Бук'"
      ]
     },
     "execution_count": 9,
     "metadata": {},
     "output_type": "execute_result"
    }
   ],
   "source": [
    "so_file='/media/spraksam/9E16B18716B160C7/py_pro/RAM/pro/audio_process/dataset/recordedFile_BOOK.wav'\n",
    "\n",
    "model = whisper.load_model('base')\n",
    "textsa = model.transcribe(so_file).get('text')\n",
    "textsa"
   ]
  },
  {
   "cell_type": "code",
   "execution_count": 106,
   "id": "43da88f2-7cb9-48e5-855d-3cc48cec5cf5",
   "metadata": {},
   "outputs": [
    {
     "data": {
      "text/plain": [
       "'noʊz'"
      ]
     },
     "execution_count": 106,
     "metadata": {},
     "output_type": "execute_result"
    }
   ],
   "source": [
    "sam=p.convert(textsa)\n",
    "sam"
   ]
  },
  {
   "cell_type": "code",
   "execution_count": 162,
   "id": "b839382e-800c-4a0c-9881-2d14a08469e8",
   "metadata": {},
   "outputs": [
    {
     "name": "stdout",
     "output_type": "stream",
     "text": [
      "CPU times: user 2.19 s, sys: 5.46 ms, total: 2.19 s\n",
      "Wall time: 671 ms\n"
     ]
    },
    {
     "data": {
      "text/plain": [
       "'əni'"
      ]
     },
     "execution_count": 162,
     "metadata": {},
     "output_type": "execute_result"
    }
   ],
   "source": [
    "%%time\n",
    "\n",
    "#file='/media/spraksam/9E16B18716B160C7/py_pro/RAM/pro/audio_process/dataset/test_t3.3.mp3'\n",
    "so_file='/media/spraksam/9E16B18716B160C7/py_pro/RAM/pro/audio_process/dataset/recordedFile_money_1.wav'\n",
    "\n",
    "wav_output = pipe(so_file, chunk_length_s=10, stride_length_s=(4, 2)).get('text')\n",
    "wav_output"
   ]
  },
  {
   "cell_type": "code",
   "execution_count": 16,
   "id": "d926fc08-c0c7-4405-bef3-86dfe65cd0f7",
   "metadata": {},
   "outputs": [],
   "source": [
    "sa_file='/media/spraksam/9E16B18716B160C7/py_pro/RAM/pro/audio_process/dataset/Phonic Responses.xlsx'\n",
    "\n",
    "pho=pd.read_excel(sa_file,sheet_name='SPRINT 2')"
   ]
  },
  {
   "cell_type": "code",
   "execution_count": 17,
   "id": "e05cfbd7-9bda-4c7d-8796-5c948b6d0097",
   "metadata": {},
   "outputs": [
    {
     "data": {
      "text/html": [
       "<div>\n",
       "<style scoped>\n",
       "    .dataframe tbody tr th:only-of-type {\n",
       "        vertical-align: middle;\n",
       "    }\n",
       "\n",
       "    .dataframe tbody tr th {\n",
       "        vertical-align: top;\n",
       "    }\n",
       "\n",
       "    .dataframe thead th {\n",
       "        text-align: right;\n",
       "    }\n",
       "</style>\n",
       "<table border=\"1\" class=\"dataframe\">\n",
       "  <thead>\n",
       "    <tr style=\"text-align: right;\">\n",
       "      <th></th>\n",
       "      <th>LOCK</th>\n",
       "      <th>DOOR</th>\n",
       "      <th>WINDOW</th>\n",
       "      <th>BULB</th>\n",
       "      <th>SWITCH</th>\n",
       "      <th>CANDLE</th>\n",
       "      <th>TORCH</th>\n",
       "      <th>FLOWER</th>\n",
       "      <th>TABLE</th>\n",
       "      <th>MASK</th>\n",
       "      <th>...</th>\n",
       "      <th>SAD</th>\n",
       "      <th>SUPRISE</th>\n",
       "      <th>surprised</th>\n",
       "      <th>Unnamed: 78</th>\n",
       "      <th>BEND</th>\n",
       "      <th>HOLD</th>\n",
       "      <th>WEAR</th>\n",
       "      <th>wearsocks</th>\n",
       "      <th>REMOVE</th>\n",
       "      <th>remove socks</th>\n",
       "    </tr>\n",
       "  </thead>\n",
       "  <tbody>\n",
       "    <tr>\n",
       "      <th>0</th>\n",
       "      <td>lo k</td>\n",
       "      <td>doʊɾ</td>\n",
       "      <td>win doʊ</td>\n",
       "      <td>balu b</td>\n",
       "      <td>s wi ʧ</td>\n",
       "      <td>kɑn dɪl</td>\n",
       "      <td>tɑɾ ʧ</td>\n",
       "      <td>f laʊʊɾɝ</td>\n",
       "      <td>tiɪ bʊl</td>\n",
       "      <td>mɑs k</td>\n",
       "      <td>...</td>\n",
       "      <td>saɪ də\"</td>\n",
       "      <td>tə p ɹeɪz\"</td>\n",
       "      <td>\"sə p ɹaɪis t\"</td>\n",
       "      <td>NaN</td>\n",
       "      <td>bæn dʊ</td>\n",
       "      <td>hʊl də</td>\n",
       "      <td>wɛɾʊ</td>\n",
       "      <td>vɛsʊ k s</td>\n",
       "      <td>ɹɪmʊl z</td>\n",
       "      <td>ɾimuv sə k s</td>\n",
       "    </tr>\n",
       "    <tr>\n",
       "      <th>1</th>\n",
       "      <td>ləo k</td>\n",
       "      <td>dʊɝ</td>\n",
       "      <td>wɪn dʊ</td>\n",
       "      <td>baɪl b</td>\n",
       "      <td>swi ʧʃ</td>\n",
       "      <td>kæn dɪl</td>\n",
       "      <td>tɑ ʧ</td>\n",
       "      <td>f laʊwɛ</td>\n",
       "      <td>teɪ bʊl</td>\n",
       "      <td>mɑəs k</td>\n",
       "      <td>...</td>\n",
       "      <td>sɑɾʊ\"</td>\n",
       "      <td>sə p ɾaɪis\"</td>\n",
       "      <td>\"sə p ɹaɪiz t\"</td>\n",
       "      <td>NaN</td>\n",
       "      <td>bɪn dʊ</td>\n",
       "      <td>hoʊ t</td>\n",
       "      <td>wɛʃʊ</td>\n",
       "      <td>ɹeɪ sɑ k shʊ</td>\n",
       "      <td>ɹʊmʊl z</td>\n",
       "      <td>ɹɪmuv ssɑ k s</td>\n",
       "    </tr>\n",
       "    <tr>\n",
       "      <th>2</th>\n",
       "      <td>lɑ k</td>\n",
       "      <td>doʊɪɾ</td>\n",
       "      <td>windo</td>\n",
       "      <td>bæl b</td>\n",
       "      <td>s wi ʃ</td>\n",
       "      <td>kæn dil</td>\n",
       "      <td>dɑɾ ʧ</td>\n",
       "      <td>f lavɛɾ</td>\n",
       "      <td>tɛ bʊl</td>\n",
       "      <td>məs k</td>\n",
       "      <td>...</td>\n",
       "      <td>saɪɾʊ\"</td>\n",
       "      <td>tʊ p ɹaɪzi\"</td>\n",
       "      <td>\"sə p leɪzə\"</td>\n",
       "      <td>NaN</td>\n",
       "      <td>beɪn dʊ</td>\n",
       "      <td>hʊl dʊ p</td>\n",
       "      <td>wɛ</td>\n",
       "      <td>ɹɛɾɪsɑ k sʊ</td>\n",
       "      <td>d ɹɪmuvə</td>\n",
       "      <td>ɹʊməl sɑ k s</td>\n",
       "    </tr>\n",
       "    <tr>\n",
       "      <th>3</th>\n",
       "      <td>ðlɑ kə</td>\n",
       "      <td>ʤʊɝ</td>\n",
       "      <td>vin doʊ</td>\n",
       "      <td>baəlb</td>\n",
       "      <td>s wɪ ʧ</td>\n",
       "      <td>kandil</td>\n",
       "      <td>təoʊɑɹ ʧ</td>\n",
       "      <td>f laʊwɛɾ</td>\n",
       "      <td>deɪ bʊl</td>\n",
       "      <td>mɑzk</td>\n",
       "      <td>...</td>\n",
       "      <td>sæ dɪ\"</td>\n",
       "      <td>sə p ɹeɪs\"</td>\n",
       "      <td>\"sɑ p ɹaɪi\"</td>\n",
       "      <td>NaN</td>\n",
       "      <td>beɪɾn dʊ</td>\n",
       "      <td>hʊ dʊ</td>\n",
       "      <td>wɛɾ</td>\n",
       "      <td>ðɑɾɪzðəʊ k s</td>\n",
       "      <td>ɹəmʊl zə</td>\n",
       "      <td>limoʊ sɑ k s</td>\n",
       "    </tr>\n",
       "    <tr>\n",
       "      <th>4</th>\n",
       "      <td>NaN</td>\n",
       "      <td>NaN</td>\n",
       "      <td>NaN</td>\n",
       "      <td>NaN</td>\n",
       "      <td>NaN</td>\n",
       "      <td>NaN</td>\n",
       "      <td>NaN</td>\n",
       "      <td>NaN</td>\n",
       "      <td>NaN</td>\n",
       "      <td>NaN</td>\n",
       "      <td>...</td>\n",
       "      <td>NaN</td>\n",
       "      <td>NaN</td>\n",
       "      <td>\"sə p ɹaɪiz\"</td>\n",
       "      <td>NaN</td>\n",
       "      <td>bɛn d</td>\n",
       "      <td>NaN</td>\n",
       "      <td>NaN</td>\n",
       "      <td>NaN</td>\n",
       "      <td>liv mʊv</td>\n",
       "      <td>limoʊsə k s</td>\n",
       "    </tr>\n",
       "  </tbody>\n",
       "</table>\n",
       "<p>5 rows × 85 columns</p>\n",
       "</div>"
      ],
      "text/plain": [
       "     LOCK   DOOR   WINDOW    BULB  SWITCH   CANDLE     TORCH    FLOWER  \\\n",
       "0    lo k   doʊɾ  win doʊ  balu b  s wi ʧ  kɑn dɪl     tɑɾ ʧ  f laʊʊɾɝ   \n",
       "1   ləo k    dʊɝ   wɪn dʊ  baɪl b  swi ʧʃ  kæn dɪl      tɑ ʧ   f laʊwɛ   \n",
       "2    lɑ k  doʊɪɾ    windo   bæl b  s wi ʃ  kæn dil     dɑɾ ʧ   f lavɛɾ   \n",
       "3  ðlɑ kə    ʤʊɝ  vin doʊ   baəlb  s wɪ ʧ   kandil  təoʊɑɹ ʧ  f laʊwɛɾ   \n",
       "4     NaN    NaN      NaN     NaN     NaN      NaN       NaN       NaN   \n",
       "\n",
       "     TABLE    MASK  ...      SAD      SUPRISE       surprised Unnamed: 78  \\\n",
       "0  tiɪ bʊl   mɑs k  ...  saɪ də\"   tə p ɹeɪz\"  \"sə p ɹaɪis t\"         NaN   \n",
       "1  teɪ bʊl  mɑəs k  ...    sɑɾʊ\"  sə p ɾaɪis\"  \"sə p ɹaɪiz t\"         NaN   \n",
       "2   tɛ bʊl   məs k  ...   saɪɾʊ\"  tʊ p ɹaɪzi\"    \"sə p leɪzə\"         NaN   \n",
       "3  deɪ bʊl    mɑzk  ...   sæ dɪ\"   sə p ɹeɪs\"     \"sɑ p ɹaɪi\"         NaN   \n",
       "4      NaN     NaN  ...      NaN          NaN    \"sə p ɹaɪiz\"         NaN   \n",
       "\n",
       "       BEND      HOLD  WEAR     wearsocks    REMOVE   remove socks  \n",
       "0    bæn dʊ    hʊl də  wɛɾʊ      vɛsʊ k s   ɹɪmʊl z   ɾimuv sə k s  \n",
       "1    bɪn dʊ     hoʊ t  wɛʃʊ  ɹeɪ sɑ k shʊ   ɹʊmʊl z  ɹɪmuv ssɑ k s  \n",
       "2   beɪn dʊ  hʊl dʊ p    wɛ   ɹɛɾɪsɑ k sʊ  d ɹɪmuvə   ɹʊməl sɑ k s  \n",
       "3  beɪɾn dʊ     hʊ dʊ   wɛɾ  ðɑɾɪzðəʊ k s  ɹəmʊl zə   limoʊ sɑ k s  \n",
       "4     bɛn d       NaN   NaN           NaN   liv mʊv    limoʊsə k s  \n",
       "\n",
       "[5 rows x 85 columns]"
      ]
     },
     "execution_count": 17,
     "metadata": {},
     "output_type": "execute_result"
    }
   ],
   "source": [
    "pho.head()"
   ]
  },
  {
   "cell_type": "code",
   "execution_count": 18,
   "id": "f662ad6b-9cc8-4a24-9a0a-4d49d138ade4",
   "metadata": {},
   "outputs": [
    {
     "data": {
      "text/plain": [
       "Index(['LOCK', 'DOOR', 'WINDOW', 'BULB', 'SWITCH', 'CANDLE', 'TORCH', 'FLOWER',\n",
       "       'TABLE', 'MASK', 'SANITIZER', 'PENCIL BOX', 'STOVE', 'OVEN', 'FRIDGE',\n",
       "       'DINING TABLE', 'FORK', 'SCISSORS', 'BOOK', 'BAG', 'PENCIL',\n",
       "       'SHARPENER', 'ERASER', 'SCALE', 'BLOCKS', 'BALLOONS', 'DOLL', 'BAT',\n",
       "       'CAR', 'CYCLE', 'BALL', 'IRON BOX', 'CUPBOARD', 'CHARGER', 'SLIDE',\n",
       "       'SWING', 'SEESAW', 'TROLLEY', 'SHOPPING BAG', 'WEIGHING SCALE',\n",
       "       'AMBULANCE', 'HAIRDRYER', 'CRAYON', 'BEADS', 'SOCKS', 'Unnamed: 45',\n",
       "       'KITCHEN', 'DININGROOM', 'BEDROOM', 'LIVINGROOM', 'BATHROOM', 'STOVE.1',\n",
       "       'FRIDGE.1', 'OVEN.1', 'SINK', 'DINING TABLE.1', 'JUG', 'TABLE MAT',\n",
       "       'CHAIR', 'NAPKIN', 'BED', 'PILLOW', 'CUPBOARD.1', 'MIRROR', 'SOFA',\n",
       "       'TV', 'FAN', 'BULB.1', 'SHOWER', 'WASHBASIN', 'TAP', 'COMMODE', 'TOWEL',\n",
       "       'Unnamed: 73', 'HAPPY ', 'SAD', 'SUPRISE', 'surprised', 'Unnamed: 78',\n",
       "       'BEND', 'HOLD', 'WEAR', 'wearsocks', 'REMOVE', 'remove socks'],\n",
       "      dtype='object')"
      ]
     },
     "execution_count": 18,
     "metadata": {},
     "output_type": "execute_result"
    }
   ],
   "source": [
    "pho.columns"
   ]
  },
  {
   "cell_type": "code",
   "execution_count": 132,
   "id": "3b3d6070-936e-4325-8b69-39bacde1c7ea",
   "metadata": {},
   "outputs": [
    {
     "data": {
      "text/plain": [
       "0    fʊɾ k\n",
       "1    foɾ k\n",
       "2    foʊ k\n",
       "3    fʊɝ k\n",
       "4      NaN\n",
       "5      NaN\n",
       "Name: FORK, dtype: object"
      ]
     },
     "execution_count": 132,
     "metadata": {},
     "output_type": "execute_result"
    }
   ],
   "source": [
    "buk=pho['FORK']\n",
    "buk"
   ]
  },
  {
   "cell_type": "code",
   "execution_count": 155,
   "id": "d151a6f5-950d-453d-bf8d-6493d4931771",
   "metadata": {},
   "outputs": [
    {
     "data": {
      "text/plain": [
       "float"
      ]
     },
     "execution_count": 155,
     "metadata": {},
     "output_type": "execute_result"
    }
   ],
   "source": [
    "type(buk[4])"
   ]
  },
  {
   "cell_type": "code",
   "execution_count": 128,
   "id": "ba8ae0b7-3431-47e6-8977-037657878703",
   "metadata": {},
   "outputs": [
    {
     "data": {
      "text/plain": [
       "bʊ k"
      ]
     },
     "execution_count": 128,
     "metadata": {},
     "output_type": "execute_result"
    }
   ],
   "source": [
    "sam"
   ]
  },
  {
   "cell_type": "code",
   "execution_count": 149,
   "id": "254e6133-e7e3-46e5-a492-1234dd9be395",
   "metadata": {},
   "outputs": [],
   "source": [
    "an=buk[4]"
   ]
  },
  {
   "cell_type": "code",
   "execution_count": 159,
   "id": "52947bd4-6ea8-45fd-b11d-3a1206e48e06",
   "metadata": {},
   "outputs": [
    {
     "name": "stdout",
     "output_type": "stream",
     "text": [
      "fʊɾ k fɑɹ k Similarity: 1.0000000326498617\n",
      "foɾ k fɑɹ k Similarity: 1.0000000326498617\n",
      "foʊ k fɑɹ k Similarity: 1.0000000326498617\n",
      "fʊɝ k fɑɹ k Similarity: 1.0000000326498617\n"
     ]
    },
    {
     "ename": "ValueError",
     "evalue": "[E1041] Expected a string, Doc, or bytes as input, but got: <class 'float'>",
     "output_type": "error",
     "traceback": [
      "\u001b[0;31m---------------------------------------------------------------------------\u001b[0m",
      "\u001b[0;31mValueError\u001b[0m                                Traceback (most recent call last)",
      "Cell \u001b[0;32mIn[159], line 4\u001b[0m\n\u001b[1;32m      1\u001b[0m \u001b[38;5;28;01mfor\u001b[39;00m k \u001b[38;5;129;01min\u001b[39;00m buk:\n\u001b[1;32m      2\u001b[0m     \u001b[38;5;66;03m#if k == an :\u001b[39;00m\n\u001b[1;32m      3\u001b[0m     \u001b[38;5;66;03m#print(k)\u001b[39;00m\n\u001b[0;32m----> 4\u001b[0m     k\u001b[38;5;241m=\u001b[39m\u001b[43mnlp\u001b[49m\u001b[43m(\u001b[49m\u001b[43mk\u001b[49m\u001b[43m)\u001b[49m\n\u001b[1;32m      5\u001b[0m     sam\u001b[38;5;241m=\u001b[39mnlp(wav_output)\n\u001b[1;32m      6\u001b[0m     \u001b[38;5;28mprint\u001b[39m(k,sam,\u001b[38;5;124m\"\u001b[39m\u001b[38;5;124mSimilarity:\u001b[39m\u001b[38;5;124m\"\u001b[39m, k\u001b[38;5;241m.\u001b[39msimilarity(sam)) \n",
      "File \u001b[0;32m/media/spraksam/9E16B18716B160C7/py_pro/RAM/pro/audio_process/audio_pro/lib/python3.10/site-packages/spacy/language.py:1037\u001b[0m, in \u001b[0;36mLanguage.__call__\u001b[0;34m(self, text, disable, component_cfg)\u001b[0m\n\u001b[1;32m   1016\u001b[0m \u001b[38;5;28;01mdef\u001b[39;00m \u001b[38;5;21m__call__\u001b[39m(\n\u001b[1;32m   1017\u001b[0m     \u001b[38;5;28mself\u001b[39m,\n\u001b[1;32m   1018\u001b[0m     text: Union[\u001b[38;5;28mstr\u001b[39m, Doc],\n\u001b[0;32m   (...)\u001b[0m\n\u001b[1;32m   1021\u001b[0m     component_cfg: Optional[Dict[\u001b[38;5;28mstr\u001b[39m, Dict[\u001b[38;5;28mstr\u001b[39m, Any]]] \u001b[38;5;241m=\u001b[39m \u001b[38;5;28;01mNone\u001b[39;00m,\n\u001b[1;32m   1022\u001b[0m ) \u001b[38;5;241m-\u001b[39m\u001b[38;5;241m>\u001b[39m Doc:\n\u001b[1;32m   1023\u001b[0m \u001b[38;5;250m    \u001b[39m\u001b[38;5;124;03m\"\"\"Apply the pipeline to some text. The text can span multiple sentences,\u001b[39;00m\n\u001b[1;32m   1024\u001b[0m \u001b[38;5;124;03m    and can contain arbitrary whitespace. Alignment into the original string\u001b[39;00m\n\u001b[1;32m   1025\u001b[0m \u001b[38;5;124;03m    is preserved.\u001b[39;00m\n\u001b[0;32m   (...)\u001b[0m\n\u001b[1;32m   1035\u001b[0m \u001b[38;5;124;03m    DOCS: https://spacy.io/api/language#call\u001b[39;00m\n\u001b[1;32m   1036\u001b[0m \u001b[38;5;124;03m    \"\"\"\u001b[39;00m\n\u001b[0;32m-> 1037\u001b[0m     doc \u001b[38;5;241m=\u001b[39m \u001b[38;5;28;43mself\u001b[39;49m\u001b[38;5;241;43m.\u001b[39;49m\u001b[43m_ensure_doc\u001b[49m\u001b[43m(\u001b[49m\u001b[43mtext\u001b[49m\u001b[43m)\u001b[49m\n\u001b[1;32m   1038\u001b[0m     \u001b[38;5;28;01mif\u001b[39;00m component_cfg \u001b[38;5;129;01mis\u001b[39;00m \u001b[38;5;28;01mNone\u001b[39;00m:\n\u001b[1;32m   1039\u001b[0m         component_cfg \u001b[38;5;241m=\u001b[39m {}\n",
      "File \u001b[0;32m/media/spraksam/9E16B18716B160C7/py_pro/RAM/pro/audio_process/audio_pro/lib/python3.10/site-packages/spacy/language.py:1131\u001b[0m, in \u001b[0;36mLanguage._ensure_doc\u001b[0;34m(self, doc_like)\u001b[0m\n\u001b[1;32m   1129\u001b[0m \u001b[38;5;28;01mif\u001b[39;00m \u001b[38;5;28misinstance\u001b[39m(doc_like, \u001b[38;5;28mbytes\u001b[39m):\n\u001b[1;32m   1130\u001b[0m     \u001b[38;5;28;01mreturn\u001b[39;00m Doc(\u001b[38;5;28mself\u001b[39m\u001b[38;5;241m.\u001b[39mvocab)\u001b[38;5;241m.\u001b[39mfrom_bytes(doc_like)\n\u001b[0;32m-> 1131\u001b[0m \u001b[38;5;28;01mraise\u001b[39;00m \u001b[38;5;167;01mValueError\u001b[39;00m(Errors\u001b[38;5;241m.\u001b[39mE1041\u001b[38;5;241m.\u001b[39mformat(\u001b[38;5;28mtype\u001b[39m\u001b[38;5;241m=\u001b[39m\u001b[38;5;28mtype\u001b[39m(doc_like)))\n",
      "\u001b[0;31mValueError\u001b[0m: [E1041] Expected a string, Doc, or bytes as input, but got: <class 'float'>"
     ]
    }
   ],
   "source": [
    "for k in buk:\n",
    "    #if k == an :\n",
    "    #print(k)\n",
    "    k=nlp(k)\n",
    "    sam=nlp(wav_output)\n",
    "    print(k,sam,\"Similarity:\", k.similarity(sam)) "
   ]
  },
  {
   "cell_type": "code",
   "execution_count": 1,
   "id": "6e69590a-a9d2-426d-8008-cce605dd6fe4",
   "metadata": {},
   "outputs": [
    {
     "name": "stdout",
     "output_type": "stream",
     "text": [
      "50ae53f06b7641b6b89051203554eaad\n"
     ]
    }
   ],
   "source": [
    "import os\n",
    "import openai\n",
    "\n",
    "os.environ['ASSEMBLYAI_API_KEY'] = \"50ae53f06b7641b6b89051203554eaad\"\n",
    "d=openai.api_key = os.getenv(\"ASSEMBLYAI_API_KEY\")\n",
    "\n",
    "print(d)"
   ]
  },
  {
   "cell_type": "code",
   "execution_count": 19,
   "id": "2d59f599-3037-4407-93c6-6abb46e5866b",
   "metadata": {},
   "outputs": [
    {
     "name": "stdout",
     "output_type": "stream",
     "text": [
      "recording...\n",
      "[[-0.94002175 -0.94002175]\n",
      " [-1.0539715  -1.0539715 ]\n",
      " [-0.959547   -0.959547  ]\n",
      " ...\n",
      " [ 0.01401156  0.01376248]\n",
      " [ 0.01275814  0.01298151]\n",
      " [ 0.00974344  0.00843194]]\n"
     ]
    }
   ],
   "source": [
    "import sounddevice as sd\n",
    "import datetime\n",
    " \n",
    "frequency = 44400 \n",
    "duration = 3.5\n",
    " \n",
    "recording = sd.rec(int(duration * frequency),samplerate = frequency, channels = 2)\n",
    "print('recording...')\n",
    "sd.wait()\n",
    "print(recording)"
   ]
  },
  {
   "cell_type": "code",
   "execution_count": 23,
   "id": "7b156582-d59b-4902-9b6e-624cdd6da596",
   "metadata": {},
   "outputs": [
    {
     "data": {
      "text/plain": [
       "((155400, 2), dtype('float32'))"
      ]
     },
     "execution_count": 23,
     "metadata": {},
     "output_type": "execute_result"
    }
   ],
   "source": [
    "recording.shape,recording.dtype"
   ]
  },
  {
   "cell_type": "code",
   "execution_count": 1,
   "id": "ffa7937e-62af-40b7-b205-2db620429e7c",
   "metadata": {
    "scrolled": true
   },
   "outputs": [
    {
     "ename": "ValueError",
     "evalue": "Please provide an API key via the ASSEMBLYAI_API_KEY environment variable or the global settings.",
     "output_type": "error",
     "traceback": [
      "\u001b[0;31m---------------------------------------------------------------------------\u001b[0m",
      "\u001b[0;31mValueError\u001b[0m                                Traceback (most recent call last)",
      "Cell \u001b[0;32mIn[1], line 5\u001b[0m\n\u001b[1;32m      3\u001b[0m config \u001b[38;5;241m=\u001b[39m aai\u001b[38;5;241m.\u001b[39mTranscriptionConfig(language_detection\u001b[38;5;241m=\u001b[39m\u001b[38;5;28;01mTrue\u001b[39;00m)\n\u001b[1;32m      4\u001b[0m \u001b[38;5;66;03m#transcribers = aai.Transcriber(config=config)\u001b[39;00m\n\u001b[0;32m----> 5\u001b[0m transcriber \u001b[38;5;241m=\u001b[39m \u001b[43maai\u001b[49m\u001b[38;5;241;43m.\u001b[39;49m\u001b[43mTranscriber\u001b[49m\u001b[43m(\u001b[49m\u001b[43m)\u001b[49m\n\u001b[1;32m      7\u001b[0m \u001b[38;5;66;03m#file='/media/spraksam/9E16B18716B160C7/py_pro/RAM/pro/audio_process/dataset/Songs for a .mp3'\u001b[39;00m\n\u001b[1;32m      8\u001b[0m \u001b[38;5;66;03m#file='/media/spraksam/9E16B18716B160C7/py_pro/RAM/pro/audio_process/dataset/recordedFile_money_1.wav'\u001b[39;00m\n",
      "File \u001b[0;32m/media/spraksam/9E16B18716B160C7/py_pro/RAM/pro/audio_process/audio_pro/lib/python3.10/site-packages/assemblyai/transcriber.py:823\u001b[0m, in \u001b[0;36mTranscriber.__init__\u001b[0;34m(self, client, config, max_workers)\u001b[0m\n\u001b[1;32m    792\u001b[0m \u001b[38;5;28;01mdef\u001b[39;00m \u001b[38;5;21m__init__\u001b[39m(\n\u001b[1;32m    793\u001b[0m     \u001b[38;5;28mself\u001b[39m,\n\u001b[1;32m    794\u001b[0m     \u001b[38;5;241m*\u001b[39m,\n\u001b[0;32m   (...)\u001b[0m\n\u001b[1;32m    797\u001b[0m     max_workers: Optional[\u001b[38;5;28mint\u001b[39m] \u001b[38;5;241m=\u001b[39m \u001b[38;5;28;01mNone\u001b[39;00m,\n\u001b[1;32m    798\u001b[0m ) \u001b[38;5;241m-\u001b[39m\u001b[38;5;241m>\u001b[39m \u001b[38;5;28;01mNone\u001b[39;00m:\n\u001b[1;32m    799\u001b[0m \u001b[38;5;250m    \u001b[39m\u001b[38;5;124;03m\"\"\"\u001b[39;00m\n\u001b[1;32m    800\u001b[0m \u001b[38;5;124;03m    Initializes the `Transcriber` with the given parameters.\u001b[39;00m\n\u001b[1;32m    801\u001b[0m \n\u001b[0;32m   (...)\u001b[0m\n\u001b[1;32m    821\u001b[0m \u001b[38;5;124;03m        ```\u001b[39;00m\n\u001b[1;32m    822\u001b[0m \u001b[38;5;124;03m    \"\"\"\u001b[39;00m\n\u001b[0;32m--> 823\u001b[0m     \u001b[38;5;28mself\u001b[39m\u001b[38;5;241m.\u001b[39m_client \u001b[38;5;241m=\u001b[39m client \u001b[38;5;129;01mor\u001b[39;00m \u001b[43m_client\u001b[49m\u001b[38;5;241;43m.\u001b[39;49m\u001b[43mClient\u001b[49m\u001b[38;5;241;43m.\u001b[39;49m\u001b[43mget_default\u001b[49m\u001b[43m(\u001b[49m\u001b[43m)\u001b[49m\n\u001b[1;32m    825\u001b[0m     \u001b[38;5;28mself\u001b[39m\u001b[38;5;241m.\u001b[39m_impl \u001b[38;5;241m=\u001b[39m _TranscriberImpl(\n\u001b[1;32m    826\u001b[0m         client\u001b[38;5;241m=\u001b[39m\u001b[38;5;28mself\u001b[39m\u001b[38;5;241m.\u001b[39m_client,\n\u001b[1;32m    827\u001b[0m         config\u001b[38;5;241m=\u001b[39mconfig \u001b[38;5;129;01mor\u001b[39;00m types\u001b[38;5;241m.\u001b[39mTranscriptionConfig(),\n\u001b[1;32m    828\u001b[0m     )\n\u001b[1;32m    830\u001b[0m     \u001b[38;5;28;01mif\u001b[39;00m \u001b[38;5;129;01mnot\u001b[39;00m max_workers:\n",
      "File \u001b[0;32m/media/spraksam/9E16B18716B160C7/py_pro/RAM/pro/audio_process/audio_pro/lib/python3.10/site-packages/assemblyai/client.py:88\u001b[0m, in \u001b[0;36mClient.get_default\u001b[0;34m(cls, api_key_required)\u001b[0m\n\u001b[1;32m     86\u001b[0m     \u001b[38;5;28;01mwith\u001b[39;00m \u001b[38;5;28mcls\u001b[39m\u001b[38;5;241m.\u001b[39m_lock:\n\u001b[1;32m     87\u001b[0m         \u001b[38;5;28;01mif\u001b[39;00m \u001b[38;5;28mcls\u001b[39m\u001b[38;5;241m.\u001b[39m_default \u001b[38;5;129;01mis\u001b[39;00m \u001b[38;5;28;01mNone\u001b[39;00m \u001b[38;5;129;01mor\u001b[39;00m \u001b[38;5;28mcls\u001b[39m\u001b[38;5;241m.\u001b[39m_default\u001b[38;5;241m.\u001b[39msettings \u001b[38;5;241m!=\u001b[39m default_settings:\n\u001b[0;32m---> 88\u001b[0m             \u001b[38;5;28mcls\u001b[39m\u001b[38;5;241m.\u001b[39m_default \u001b[38;5;241m=\u001b[39m \u001b[38;5;28;43mcls\u001b[39;49m\u001b[43m(\u001b[49m\n\u001b[1;32m     89\u001b[0m \u001b[43m                \u001b[49m\u001b[43msettings\u001b[49m\u001b[38;5;241;43m=\u001b[39;49m\u001b[43mdefault_settings\u001b[49m\u001b[43m,\u001b[49m\u001b[43m \u001b[49m\u001b[43mapi_key_required\u001b[49m\u001b[38;5;241;43m=\u001b[39;49m\u001b[43mapi_key_required\u001b[49m\n\u001b[1;32m     90\u001b[0m \u001b[43m            \u001b[49m\u001b[43m)\u001b[49m\n\u001b[1;32m     92\u001b[0m \u001b[38;5;28;01mreturn\u001b[39;00m \u001b[38;5;28mcls\u001b[39m\u001b[38;5;241m.\u001b[39m_default\n",
      "File \u001b[0;32m/media/spraksam/9E16B18716B160C7/py_pro/RAM/pro/audio_process/audio_pro/lib/python3.10/site-packages/assemblyai/client.py:32\u001b[0m, in \u001b[0;36mClient.__init__\u001b[0;34m(self, settings, api_key_required)\u001b[0m\n\u001b[1;32m     29\u001b[0m \u001b[38;5;28mself\u001b[39m\u001b[38;5;241m.\u001b[39m_settings \u001b[38;5;241m=\u001b[39m settings\u001b[38;5;241m.\u001b[39mcopy()\n\u001b[1;32m     31\u001b[0m \u001b[38;5;28;01mif\u001b[39;00m api_key_required \u001b[38;5;129;01mand\u001b[39;00m \u001b[38;5;129;01mnot\u001b[39;00m \u001b[38;5;28mself\u001b[39m\u001b[38;5;241m.\u001b[39m_settings\u001b[38;5;241m.\u001b[39mapi_key:\n\u001b[0;32m---> 32\u001b[0m     \u001b[38;5;28;01mraise\u001b[39;00m \u001b[38;5;167;01mValueError\u001b[39;00m(\n\u001b[1;32m     33\u001b[0m         \u001b[38;5;124m\"\u001b[39m\u001b[38;5;124mPlease provide an API key via the ASSEMBLYAI_API_KEY environment variable or the global settings.\u001b[39m\u001b[38;5;124m\"\u001b[39m\n\u001b[1;32m     34\u001b[0m     )\n\u001b[1;32m     36\u001b[0m \u001b[38;5;28;01mif\u001b[39;00m \u001b[38;5;28mself\u001b[39m\u001b[38;5;241m.\u001b[39m_settings\u001b[38;5;241m.\u001b[39mapi_key:\n\u001b[1;32m     37\u001b[0m     \u001b[38;5;28mself\u001b[39m\u001b[38;5;241m.\u001b[39m_http_client \u001b[38;5;241m=\u001b[39m httpx\u001b[38;5;241m.\u001b[39mClient(\n\u001b[1;32m     38\u001b[0m         base_url\u001b[38;5;241m=\u001b[39m\u001b[38;5;28mself\u001b[39m\u001b[38;5;241m.\u001b[39msettings\u001b[38;5;241m.\u001b[39mbase_url,\n\u001b[1;32m     39\u001b[0m         headers\u001b[38;5;241m=\u001b[39m{\n\u001b[0;32m   (...)\u001b[0m\n\u001b[1;32m     42\u001b[0m         timeout\u001b[38;5;241m=\u001b[39m\u001b[38;5;28mself\u001b[39m\u001b[38;5;241m.\u001b[39msettings\u001b[38;5;241m.\u001b[39mhttp_timeout,\n\u001b[1;32m     43\u001b[0m     )\n",
      "\u001b[0;31mValueError\u001b[0m: Please provide an API key via the ASSEMBLYAI_API_KEY environment variable or the global settings."
     ]
    }
   ],
   "source": [
    "import assemblyai as aai\n",
    "\n",
    "config = aai.TranscriptionConfig(language_detection=True)\n",
    "#transcribers = aai.Transcriber(config=config)\n",
    "transcriber = aai.Transcriber()\n",
    "\n",
    "#file='/media/spraksam/9E16B18716B160C7/py_pro/RAM/pro/audio_process/dataset/Songs for a .mp3'\n",
    "#file='/media/spraksam/9E16B18716B160C7/py_pro/RAM/pro/audio_process/dataset/recordedFile_money_1.wav'"
   ]
  },
  {
   "cell_type": "code",
   "execution_count": 3,
   "id": "22a2207c-7c1f-432f-9301-f1334861323b",
   "metadata": {
    "scrolled": true
   },
   "outputs": [
    {
     "name": "stdout",
     "output_type": "stream",
     "text": [
      "Collecting pygobject\n",
      "  Using cached pygobject-3.48.1.tar.gz (714 kB)\n",
      "  Installing build dependencies ... \u001b[?25lerror\n",
      "  \u001b[1;31merror\u001b[0m: \u001b[1msubprocess-exited-with-error\u001b[0m\n",
      "  \n",
      "  \u001b[31m×\u001b[0m \u001b[32mpip subprocess to install build dependencies\u001b[0m did not run successfully.\n",
      "  \u001b[31m│\u001b[0m exit code: \u001b[1;36m1\u001b[0m\n",
      "  \u001b[31m╰─>\u001b[0m \u001b[31m[49 lines of output]\u001b[0m\n",
      "  \u001b[31m   \u001b[0m Collecting meson-python>=0.12.1\n",
      "  \u001b[31m   \u001b[0m   Using cached meson_python-0.15.0-py3-none-any.whl (25 kB)\n",
      "  \u001b[31m   \u001b[0m Collecting pycairo>=1.16\n",
      "  \u001b[31m   \u001b[0m   Using cached pycairo-1.26.0.tar.gz (346 kB)\n",
      "  \u001b[31m   \u001b[0m   Installing build dependencies: started\n",
      "  \u001b[31m   \u001b[0m   Installing build dependencies: finished with status 'done'\n",
      "  \u001b[31m   \u001b[0m   Getting requirements to build wheel: started\n",
      "  \u001b[31m   \u001b[0m   Getting requirements to build wheel: finished with status 'done'\n",
      "  \u001b[31m   \u001b[0m   Installing backend dependencies: started\n",
      "  \u001b[31m   \u001b[0m   Installing backend dependencies: finished with status 'done'\n",
      "  \u001b[31m   \u001b[0m   Preparing metadata (pyproject.toml): started\n",
      "  \u001b[31m   \u001b[0m   Preparing metadata (pyproject.toml): finished with status 'done'\n",
      "  \u001b[31m   \u001b[0m Collecting pyproject-metadata>=0.7.1\n",
      "  \u001b[31m   \u001b[0m   Using cached pyproject_metadata-0.7.1-py3-none-any.whl (7.4 kB)\n",
      "  \u001b[31m   \u001b[0m Collecting tomli>=1.0.0\n",
      "  \u001b[31m   \u001b[0m   Using cached tomli-2.0.1-py3-none-any.whl (12 kB)\n",
      "  \u001b[31m   \u001b[0m Collecting meson>=0.63.3\n",
      "  \u001b[31m   \u001b[0m   Using cached meson-1.4.0-py3-none-any.whl (935 kB)\n",
      "  \u001b[31m   \u001b[0m Collecting packaging>=19.0\n",
      "  \u001b[31m   \u001b[0m   Using cached packaging-24.0-py3-none-any.whl (53 kB)\n",
      "  \u001b[31m   \u001b[0m Building wheels for collected packages: pycairo\n",
      "  \u001b[31m   \u001b[0m   Building wheel for pycairo (pyproject.toml): started\n",
      "  \u001b[31m   \u001b[0m   Building wheel for pycairo (pyproject.toml): finished with status 'error'\n",
      "  \u001b[31m   \u001b[0m   error: subprocess-exited-with-error\n",
      "  \u001b[31m   \u001b[0m \n",
      "  \u001b[31m   \u001b[0m   × Building wheel for pycairo (pyproject.toml) did not run successfully.\n",
      "  \u001b[31m   \u001b[0m   │ exit code: 1\n",
      "  \u001b[31m   \u001b[0m   ╰─> [15 lines of output]\n",
      "  \u001b[31m   \u001b[0m       running bdist_wheel\n",
      "  \u001b[31m   \u001b[0m       running build\n",
      "  \u001b[31m   \u001b[0m       running build_py\n",
      "  \u001b[31m   \u001b[0m       creating build\n",
      "  \u001b[31m   \u001b[0m       creating build/lib.linux-x86_64-cpython-310\n",
      "  \u001b[31m   \u001b[0m       creating build/lib.linux-x86_64-cpython-310/cairo\n",
      "  \u001b[31m   \u001b[0m       copying cairo/__init__.py -> build/lib.linux-x86_64-cpython-310/cairo\n",
      "  \u001b[31m   \u001b[0m       copying cairo/__init__.pyi -> build/lib.linux-x86_64-cpython-310/cairo\n",
      "  \u001b[31m   \u001b[0m       copying cairo/py.typed -> build/lib.linux-x86_64-cpython-310/cairo\n",
      "  \u001b[31m   \u001b[0m       running build_ext\n",
      "  \u001b[31m   \u001b[0m       Package cairo was not found in the pkg-config search path.\n",
      "  \u001b[31m   \u001b[0m       Perhaps you should add the directory containing `cairo.pc'\n",
      "  \u001b[31m   \u001b[0m       to the PKG_CONFIG_PATH environment variable\n",
      "  \u001b[31m   \u001b[0m       No package 'cairo' found\n",
      "  \u001b[31m   \u001b[0m       Command '['pkg-config', '--print-errors', '--exists', 'cairo >= 1.15.10']' returned non-zero exit status 1.\n",
      "  \u001b[31m   \u001b[0m       [end of output]\n",
      "  \u001b[31m   \u001b[0m \n",
      "  \u001b[31m   \u001b[0m   note: This error originates from a subprocess, and is likely not a problem with pip.\n",
      "  \u001b[31m   \u001b[0m   ERROR: Failed building wheel for pycairo\n",
      "  \u001b[31m   \u001b[0m Failed to build pycairo\n",
      "  \u001b[31m   \u001b[0m ERROR: Could not build wheels for pycairo, which is required to install pyproject.toml-based projects\n",
      "  \u001b[31m   \u001b[0m \u001b[31m[end of output]\u001b[0m\n",
      "  \n",
      "  \u001b[1;35mnote\u001b[0m: This error originates from a subprocess, and is likely not a problem with pip.\n",
      "\u001b[1;31merror\u001b[0m: \u001b[1msubprocess-exited-with-error\u001b[0m\n",
      "\n",
      "\u001b[31m×\u001b[0m \u001b[32mpip subprocess to install build dependencies\u001b[0m did not run successfully.\n",
      "\u001b[31m│\u001b[0m exit code: \u001b[1;36m1\u001b[0m\n",
      "\u001b[31m╰─>\u001b[0m See above for output.\n",
      "\n",
      "\u001b[1;35mnote\u001b[0m: This error originates from a subprocess, and is likely not a problem with pip.\n",
      "\u001b[?25h"
     ]
    }
   ],
   "source": [
    "! pip3 install pygobject"
   ]
  },
  {
   "cell_type": "code",
   "execution_count": 21,
   "id": "f58b0b07-1b9a-48af-a7be-e034589b86a4",
   "metadata": {
    "scrolled": true
   },
   "outputs": [
    {
     "ename": "ValueError",
     "evalue": "The truth value of an array with more than one element is ambiguous. Use a.any() or a.all()",
     "output_type": "error",
     "traceback": [
      "\u001b[0;31m---------------------------------------------------------------------------\u001b[0m",
      "\u001b[0;31mValueError\u001b[0m                                Traceback (most recent call last)",
      "Cell \u001b[0;32mIn[21], line 1\u001b[0m\n\u001b[0;32m----> 1\u001b[0m transcript \u001b[38;5;241m=\u001b[39m \u001b[43mtranscriber\u001b[49m\u001b[38;5;241;43m.\u001b[39;49m\u001b[43mtranscribe\u001b[49m\u001b[43m(\u001b[49m\u001b[43mrecording\u001b[49m\u001b[43m[\u001b[49m\u001b[38;5;241;43m0\u001b[39;49m\u001b[43m]\u001b[49m\u001b[43m)\u001b[49m\n\u001b[1;32m      2\u001b[0m samp\u001b[38;5;241m=\u001b[39mtranscript\u001b[38;5;241m.\u001b[39mtext\n\u001b[1;32m      3\u001b[0m samp\n",
      "File \u001b[0;32m/media/spraksam/9E16B18716B160C7/py_pro/RAM/pro/audio_process/audio_pro/lib/python3.10/site-packages/assemblyai/transcriber.py:906\u001b[0m, in \u001b[0;36mTranscriber.transcribe\u001b[0;34m(self, data, config)\u001b[0m\n\u001b[1;32m    892\u001b[0m \u001b[38;5;28;01mdef\u001b[39;00m \u001b[38;5;21mtranscribe\u001b[39m(\n\u001b[1;32m    893\u001b[0m     \u001b[38;5;28mself\u001b[39m,\n\u001b[1;32m    894\u001b[0m     data: \u001b[38;5;28mstr\u001b[39m,\n\u001b[1;32m    895\u001b[0m     config: Optional[types\u001b[38;5;241m.\u001b[39mTranscriptionConfig] \u001b[38;5;241m=\u001b[39m \u001b[38;5;28;01mNone\u001b[39;00m,\n\u001b[1;32m    896\u001b[0m ) \u001b[38;5;241m-\u001b[39m\u001b[38;5;241m>\u001b[39m Transcript:\n\u001b[1;32m    897\u001b[0m \u001b[38;5;250m    \u001b[39m\u001b[38;5;124;03m\"\"\"\u001b[39;00m\n\u001b[1;32m    898\u001b[0m \u001b[38;5;124;03m    Transcribes an audio file whose location can be specified via a URL or file path.\u001b[39;00m\n\u001b[1;32m    899\u001b[0m \n\u001b[0;32m   (...)\u001b[0m\n\u001b[1;32m    903\u001b[0m \u001b[38;5;124;03m            default configuration will be used.\u001b[39;00m\n\u001b[1;32m    904\u001b[0m \u001b[38;5;124;03m    \"\"\"\u001b[39;00m\n\u001b[0;32m--> 906\u001b[0m     \u001b[38;5;28;01mreturn\u001b[39;00m \u001b[38;5;28;43mself\u001b[39;49m\u001b[38;5;241;43m.\u001b[39;49m\u001b[43m_impl\u001b[49m\u001b[38;5;241;43m.\u001b[39;49m\u001b[43mtranscribe\u001b[49m\u001b[43m(\u001b[49m\n\u001b[1;32m    907\u001b[0m \u001b[43m        \u001b[49m\u001b[43mdata\u001b[49m\u001b[38;5;241;43m=\u001b[39;49m\u001b[43mdata\u001b[49m\u001b[43m,\u001b[49m\n\u001b[1;32m    908\u001b[0m \u001b[43m        \u001b[49m\u001b[43mconfig\u001b[49m\u001b[38;5;241;43m=\u001b[39;49m\u001b[43mconfig\u001b[49m\u001b[43m,\u001b[49m\n\u001b[1;32m    909\u001b[0m \u001b[43m        \u001b[49m\u001b[43mpoll\u001b[49m\u001b[38;5;241;43m=\u001b[39;49m\u001b[38;5;28;43;01mTrue\u001b[39;49;00m\u001b[43m,\u001b[49m\n\u001b[1;32m    910\u001b[0m \u001b[43m    \u001b[49m\u001b[43m)\u001b[49m\n",
      "File \u001b[0;32m/media/spraksam/9E16B18716B160C7/py_pro/RAM/pro/audio_process/audio_pro/lib/python3.10/site-packages/assemblyai/transcriber.py:736\u001b[0m, in \u001b[0;36m_TranscriberImpl.transcribe\u001b[0;34m(self, data, config, poll)\u001b[0m\n\u001b[1;32m    733\u001b[0m \u001b[38;5;28;01mif\u001b[39;00m config \u001b[38;5;129;01mis\u001b[39;00m \u001b[38;5;28;01mNone\u001b[39;00m:\n\u001b[1;32m    734\u001b[0m     config \u001b[38;5;241m=\u001b[39m \u001b[38;5;28mself\u001b[39m\u001b[38;5;241m.\u001b[39mconfig\n\u001b[0;32m--> 736\u001b[0m \u001b[38;5;28;01mif\u001b[39;00m \u001b[43murlparse\u001b[49m\u001b[43m(\u001b[49m\u001b[43mdata\u001b[49m\u001b[43m)\u001b[49m\u001b[38;5;241m.\u001b[39mscheme \u001b[38;5;129;01min\u001b[39;00m {\u001b[38;5;124m\"\u001b[39m\u001b[38;5;124mhttp\u001b[39m\u001b[38;5;124m\"\u001b[39m, \u001b[38;5;124m\"\u001b[39m\u001b[38;5;124mhttps\u001b[39m\u001b[38;5;124m\"\u001b[39m}:\n\u001b[1;32m    737\u001b[0m     \u001b[38;5;28;01mreturn\u001b[39;00m \u001b[38;5;28mself\u001b[39m\u001b[38;5;241m.\u001b[39mtranscribe_url(\n\u001b[1;32m    738\u001b[0m         url\u001b[38;5;241m=\u001b[39mdata,\n\u001b[1;32m    739\u001b[0m         config\u001b[38;5;241m=\u001b[39mconfig,\n\u001b[1;32m    740\u001b[0m         poll\u001b[38;5;241m=\u001b[39mpoll,\n\u001b[1;32m    741\u001b[0m     )\n\u001b[1;32m    743\u001b[0m \u001b[38;5;28;01mreturn\u001b[39;00m \u001b[38;5;28mself\u001b[39m\u001b[38;5;241m.\u001b[39mtranscribe_file(\n\u001b[1;32m    744\u001b[0m     path\u001b[38;5;241m=\u001b[39mdata,\n\u001b[1;32m    745\u001b[0m     config\u001b[38;5;241m=\u001b[39mconfig,\n\u001b[1;32m    746\u001b[0m     poll\u001b[38;5;241m=\u001b[39mpoll,\n\u001b[1;32m    747\u001b[0m )\n",
      "File \u001b[0;32m/usr/lib/python3.10/urllib/parse.py:399\u001b[0m, in \u001b[0;36murlparse\u001b[0;34m(url, scheme, allow_fragments)\u001b[0m\n\u001b[1;32m    379\u001b[0m \u001b[38;5;28;01mdef\u001b[39;00m \u001b[38;5;21murlparse\u001b[39m(url, scheme\u001b[38;5;241m=\u001b[39m\u001b[38;5;124m'\u001b[39m\u001b[38;5;124m'\u001b[39m, allow_fragments\u001b[38;5;241m=\u001b[39m\u001b[38;5;28;01mTrue\u001b[39;00m):\n\u001b[1;32m    380\u001b[0m \u001b[38;5;250m    \u001b[39m\u001b[38;5;124;03m\"\"\"Parse a URL into 6 components:\u001b[39;00m\n\u001b[1;32m    381\u001b[0m \u001b[38;5;124;03m    <scheme>://<netloc>/<path>;<params>?<query>#<fragment>\u001b[39;00m\n\u001b[1;32m    382\u001b[0m \n\u001b[0;32m   (...)\u001b[0m\n\u001b[1;32m    397\u001b[0m \u001b[38;5;124;03m    Note that % escapes are not expanded.\u001b[39;00m\n\u001b[1;32m    398\u001b[0m \u001b[38;5;124;03m    \"\"\"\u001b[39;00m\n\u001b[0;32m--> 399\u001b[0m     url, scheme, _coerce_result \u001b[38;5;241m=\u001b[39m \u001b[43m_coerce_args\u001b[49m\u001b[43m(\u001b[49m\u001b[43murl\u001b[49m\u001b[43m,\u001b[49m\u001b[43m \u001b[49m\u001b[43mscheme\u001b[49m\u001b[43m)\u001b[49m\n\u001b[1;32m    400\u001b[0m     splitresult \u001b[38;5;241m=\u001b[39m urlsplit(url, scheme, allow_fragments)\n\u001b[1;32m    401\u001b[0m     scheme, netloc, url, query, fragment \u001b[38;5;241m=\u001b[39m splitresult\n",
      "File \u001b[0;32m/usr/lib/python3.10/urllib/parse.py:136\u001b[0m, in \u001b[0;36m_coerce_args\u001b[0;34m(*args)\u001b[0m\n\u001b[1;32m    134\u001b[0m \u001b[38;5;28;01mif\u001b[39;00m str_input:\n\u001b[1;32m    135\u001b[0m     \u001b[38;5;28;01mreturn\u001b[39;00m args \u001b[38;5;241m+\u001b[39m (_noop,)\n\u001b[0;32m--> 136\u001b[0m \u001b[38;5;28;01mreturn\u001b[39;00m \u001b[43m_decode_args\u001b[49m\u001b[43m(\u001b[49m\u001b[43margs\u001b[49m\u001b[43m)\u001b[49m \u001b[38;5;241m+\u001b[39m (_encode_result,)\n",
      "File \u001b[0;32m/usr/lib/python3.10/urllib/parse.py:120\u001b[0m, in \u001b[0;36m_decode_args\u001b[0;34m(args, encoding, errors)\u001b[0m\n\u001b[1;32m    118\u001b[0m \u001b[38;5;28;01mdef\u001b[39;00m \u001b[38;5;21m_decode_args\u001b[39m(args, encoding\u001b[38;5;241m=\u001b[39m_implicit_encoding,\n\u001b[1;32m    119\u001b[0m                        errors\u001b[38;5;241m=\u001b[39m_implicit_errors):\n\u001b[0;32m--> 120\u001b[0m     \u001b[38;5;28;01mreturn\u001b[39;00m \u001b[38;5;28;43mtuple\u001b[39;49m\u001b[43m(\u001b[49m\u001b[43mx\u001b[49m\u001b[38;5;241;43m.\u001b[39;49m\u001b[43mdecode\u001b[49m\u001b[43m(\u001b[49m\u001b[43mencoding\u001b[49m\u001b[43m,\u001b[49m\u001b[43m \u001b[49m\u001b[43merrors\u001b[49m\u001b[43m)\u001b[49m\u001b[43m \u001b[49m\u001b[38;5;28;43;01mif\u001b[39;49;00m\u001b[43m \u001b[49m\u001b[43mx\u001b[49m\u001b[43m \u001b[49m\u001b[38;5;28;43;01melse\u001b[39;49;00m\u001b[43m \u001b[49m\u001b[38;5;124;43m'\u001b[39;49m\u001b[38;5;124;43m'\u001b[39;49m\u001b[43m \u001b[49m\u001b[38;5;28;43;01mfor\u001b[39;49;00m\u001b[43m \u001b[49m\u001b[43mx\u001b[49m\u001b[43m \u001b[49m\u001b[38;5;129;43;01min\u001b[39;49;00m\u001b[43m \u001b[49m\u001b[43margs\u001b[49m\u001b[43m)\u001b[49m\n",
      "File \u001b[0;32m/usr/lib/python3.10/urllib/parse.py:120\u001b[0m, in \u001b[0;36m<genexpr>\u001b[0;34m(.0)\u001b[0m\n\u001b[1;32m    118\u001b[0m \u001b[38;5;28;01mdef\u001b[39;00m \u001b[38;5;21m_decode_args\u001b[39m(args, encoding\u001b[38;5;241m=\u001b[39m_implicit_encoding,\n\u001b[1;32m    119\u001b[0m                        errors\u001b[38;5;241m=\u001b[39m_implicit_errors):\n\u001b[0;32m--> 120\u001b[0m     \u001b[38;5;28;01mreturn\u001b[39;00m \u001b[38;5;28mtuple\u001b[39m(x\u001b[38;5;241m.\u001b[39mdecode(encoding, errors) \u001b[38;5;28;01mif\u001b[39;00m x \u001b[38;5;28;01melse\u001b[39;00m \u001b[38;5;124m'\u001b[39m\u001b[38;5;124m'\u001b[39m \u001b[38;5;28;01mfor\u001b[39;00m x \u001b[38;5;129;01min\u001b[39;00m args)\n",
      "\u001b[0;31mValueError\u001b[0m: The truth value of an array with more than one element is ambiguous. Use a.any() or a.all()"
     ]
    }
   ],
   "source": [
    "transcript = transcriber.transcribe(recording[0])\n",
    "samp=transcript.text\n",
    "samp"
   ]
  },
  {
   "cell_type": "code",
   "execution_count": 1,
   "id": "a4c04546-523e-4669-a4a9-6cb4ed0966a6",
   "metadata": {},
   "outputs": [
    {
     "ename": "NameError",
     "evalue": "name 'transcriber' is not defined",
     "output_type": "error",
     "traceback": [
      "\u001b[0;31m---------------------------------------------------------------------------\u001b[0m",
      "\u001b[0;31mNameError\u001b[0m                                 Traceback (most recent call last)",
      "Cell \u001b[0;32mIn[1], line 3\u001b[0m\n\u001b[1;32m      1\u001b[0m file\u001b[38;5;241m=\u001b[39m\u001b[38;5;124m'\u001b[39m\u001b[38;5;124m/media/spraksam/9E16B18716B160C7/py_pro/RAM/pro/audio_process/dataset/recordedFile_switch.wav\u001b[39m\u001b[38;5;124m'\u001b[39m\n\u001b[0;32m----> 3\u001b[0m transcript \u001b[38;5;241m=\u001b[39m \u001b[43mtranscriber\u001b[49m\u001b[38;5;241m.\u001b[39mtranscribe(file)\n\u001b[1;32m      4\u001b[0m samp\u001b[38;5;241m=\u001b[39mtranscript\u001b[38;5;241m.\u001b[39mtext\n\u001b[1;32m      5\u001b[0m sam\u001b[38;5;241m=\u001b[39mp\u001b[38;5;241m.\u001b[39mconvert(samp)\n",
      "\u001b[0;31mNameError\u001b[0m: name 'transcriber' is not defined"
     ]
    }
   ],
   "source": [
    "file='/media/spraksam/9E16B18716B160C7/py_pro/RAM/pro/audio_process/dataset/recordedFile_switch.wav'\n",
    "\n",
    "transcript = transcriber.transcribe(file)\n",
    "samp=transcript.text\n",
    "sam=p.convert(samp)\n",
    "\n",
    "samp,sam"
   ]
  },
  {
   "cell_type": "code",
   "execution_count": 30,
   "id": "91e54bdd-74b4-473e-bd3b-64fd48f7cbb5",
   "metadata": {},
   "outputs": [],
   "source": [
    "from playsound import playsound\n",
    "playsound(file)"
   ]
  },
  {
   "cell_type": "code",
   "execution_count": null,
   "id": "3cadd1e4-ae2f-420d-ba7e-397f18d2b8a8",
   "metadata": {},
   "outputs": [],
   "source": []
  }
 ],
 "metadata": {
  "kernelspec": {
   "display_name": "Python 3 (ipykernel)",
   "language": "python",
   "name": "python3"
  },
  "language_info": {
   "codemirror_mode": {
    "name": "ipython",
    "version": 3
   },
   "file_extension": ".py",
   "mimetype": "text/x-python",
   "name": "python",
   "nbconvert_exporter": "python",
   "pygments_lexer": "ipython3",
   "version": "3.10.12"
  }
 },
 "nbformat": 4,
 "nbformat_minor": 5
}
